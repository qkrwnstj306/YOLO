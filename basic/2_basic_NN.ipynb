{
 "cells": [
  {
   "cell_type": "code",
   "execution_count": 62,
   "id": "7229e282-3258-42f1-9950-6326650b97c5",
   "metadata": {},
   "outputs": [],
   "source": [
    "import numpy as np\n",
    "\n",
    "X = np.array([[1,0,1,0],[1,0,1,1],[0,1,0,1]])\n",
    "y = np.array([[1],[1],[0]])\n",
    "\n",
    "def sigmoid(x):\n",
    "    return 1/(1+np.exp(-x))\n",
    "\n",
    "\n",
    "def derivatives_sigmoid(sigmoid_x):\n",
    "    return sigmoid_x*(1-sigmoid_x)\n",
    "\n",
    "epoch = 500\n",
    "lr = 0.1\n",
    "inputlayer_neurons = X.shape[1]\n",
    "hiddenlayer_neurons = 3\n",
    "output_neurons = 1"
   ]
  },
  {
   "cell_type": "code",
   "execution_count": 63,
   "id": "d47b5840-9f5a-42ca-a81f-ef70a11f22af",
   "metadata": {},
   "outputs": [],
   "source": [
    "wh = np.random.uniform(size = (inputlayer_neurons,hiddenlayer_neurons))\n",
    "bh = np.random.uniform(size = (1,hiddenlayer_neurons)) # 1 for batch with broadcasting \n",
    "\n",
    "wout = np.random.uniform(size = (hiddenlayer_neurons,output_neurons))\n",
    "bout = np.random.uniform(size = (1,output_neurons))\n",
    "\n",
    "def forward(x):\n",
    "    global hiddenlayer_activations\n",
    "\n",
    "    hidden_layer_input1 = np.dot(X, wh)\n",
    "    hidden_layer_input = hidden_layer_input1 + bh\n",
    "    hiddenlayer_activations = sigmoid(hidden_layer_input)\n",
    "    \n",
    "    hidden_layer_input1 = np.dot(hiddenlayer_activations, wout)\n",
    "    hidden_layer_input = hidden_layer_input1 + bout\n",
    "    output = sigmoid(hidden_layer_input)\n",
    "\n",
    "    return output\n",
    "    "
   ]
  },
  {
   "cell_type": "code",
   "execution_count": 64,
   "id": "2aa106a7-27bb-44b3-b470-ad917163eba0",
   "metadata": {},
   "outputs": [],
   "source": [
    "def optimize(E, output):\n",
    "    global wout, bout, wh, bh\n",
    "\n",
    "    slope_output_layer = derivatives_sigmoid(output)\n",
    "\n",
    "    slope_hidden_layer = derivatives_sigmoid(hiddenlayer_activations)\n",
    "\n",
    "    d_output = E * slope_output_layer \n",
    "    Error_at_hidden_layer = d_output.dot(wout.T)\n",
    "    d_hiddenlayer = Error_at_hidden_layer * slope_output_layer\n",
    "\n",
    "    wout = wout + hiddenlayer_activations.T.dot(d_output) * lr\n",
    "    bout = bout + np.sum(d_output, axis = 0, keepdims = True) * lr\n",
    "\n",
    "    wh = wh + X.T.dot(d_hiddenlayer) * lr\n",
    "    bh = bh + np.sum(d_hiddenlayer, axis = 0, keepdims = True) * lr \n",
    "\n",
    "    "
   ]
  },
  {
   "cell_type": "code",
   "execution_count": 65,
   "id": "abcdf242-981a-4c3a-93e6-086ede2e1567",
   "metadata": {
    "scrolled": true
   },
   "outputs": [
    {
     "name": "stderr",
     "output_type": "stream",
     "text": [
      "100%|██████████| 500/500 [00:00<00:00, 23730.96it/s]\n"
     ]
    }
   ],
   "source": [
    "#역전파를 안해서 학습 진행 X\n",
    "from tqdm import tqdm\n",
    "for i in tqdm(range(epoch)):\n",
    "    output = forward(X)\n",
    "\n",
    "    E = y - output\n",
    "    if ( i + 1 ) % 1000 == 0:\n",
    "        print(f'Epoch = {epoch}, Loss = {E.reshape(1,3)}')\n",
    "    "
   ]
  },
  {
   "cell_type": "code",
   "execution_count": 66,
   "id": "27875097-3192-41b0-ba57-d062b5b5fb31",
   "metadata": {},
   "outputs": [
    {
     "name": "stderr",
     "output_type": "stream",
     "text": [
      "100%|██████████| 500/500 [00:00<00:00, 14670.43it/s]"
     ]
    },
    {
     "name": "stdout",
     "output_type": "stream",
     "text": [
      "predict = [[0.85441757 0.80211747 0.27616603]]\n",
      "ground truth = [[1 1 0]]\n"
     ]
    },
    {
     "name": "stderr",
     "output_type": "stream",
     "text": [
      "\n"
     ]
    }
   ],
   "source": [
    "from tqdm import tqdm\n",
    "for i in tqdm(range(epoch)):\n",
    "    output = forward(X)\n",
    "\n",
    "    E = y - output\n",
    "    if ( i + 1 ) % 1000 == 0:\n",
    "        print(f'Epoch = {epoch}, Loss = {E.reshape(1,3)}')\n",
    "    optimize(E, output)\n",
    "\n",
    "print(f'predict = {output.reshape(1,3)}')\n",
    "print(f'ground truth = {y.reshape(1,3)}')"
   ]
  },
  {
   "cell_type": "code",
   "execution_count": 67,
   "id": "76ca3a22-a6b9-46d4-860d-2737905f7034",
   "metadata": {},
   "outputs": [
    {
     "name": "stdout",
     "output_type": "stream",
     "text": [
      "[[0.85480957]\n",
      " [0.80247528]\n",
      " [0.27552306]]\n"
     ]
    }
   ],
   "source": [
    "X = np.array([[1,0,1,0],[1,0,1,1],[0,1,0,1]])\n",
    "y = np.array([[1],[1],[0]])\n",
    "\n",
    "def predict(X):\n",
    "    output = forward(X)\n",
    "    return output\n",
    "\n",
    "\n",
    "input = np.array([1, 0, 1, 0])\n",
    "yhat = predict(input)\n",
    "print(yhat)"
   ]
  },
  {
   "cell_type": "code",
   "execution_count": null,
   "id": "929c1243-9464-4398-8d15-040f4210515a",
   "metadata": {},
   "outputs": [],
   "source": []
  },
  {
   "cell_type": "code",
   "execution_count": null,
   "id": "52a23532-e038-4f65-8f47-ddf833d3f274",
   "metadata": {},
   "outputs": [],
   "source": []
  },
  {
   "cell_type": "code",
   "execution_count": null,
   "id": "43e6219a-728b-4770-b6b3-47d745e2ee52",
   "metadata": {},
   "outputs": [],
   "source": []
  }
 ],
 "metadata": {
  "kernelspec": {
   "display_name": "Python 3",
   "language": "python",
   "name": "python3"
  },
  "language_info": {
   "codemirror_mode": {
    "name": "ipython",
    "version": 3
   },
   "file_extension": ".py",
   "mimetype": "text/x-python",
   "name": "python",
   "nbconvert_exporter": "python",
   "pygments_lexer": "ipython3",
   "version": "3.9.1"
  }
 },
 "nbformat": 4,
 "nbformat_minor": 5
}
